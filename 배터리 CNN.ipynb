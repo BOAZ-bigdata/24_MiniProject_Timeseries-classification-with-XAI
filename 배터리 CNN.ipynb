{
  "cells": [
    {
      "cell_type": "code",
      "execution_count": null,
      "metadata": {
        "colab": {
          "base_uri": "https://localhost:8080/"
        },
        "id": "MxU_yfBSd-Tq",
        "outputId": "ce92e36f-2037-4571-e85c-b40399707cd2"
      },
      "outputs": [
        {
          "output_type": "stream",
          "name": "stdout",
          "text": [
            "Mounted at /content/drive\n"
          ]
        }
      ],
      "source": [
        "from google.colab import drive\n",
        "drive.mount('/content/drive')"
      ]
    },
    {
      "cell_type": "code",
      "execution_count": null,
      "metadata": {
        "id": "0cvVusbneBG-"
      },
      "outputs": [],
      "source": [
        "import os\n",
        "import glob\n",
        "import numpy as np"
      ]
    },
    {
      "cell_type": "code",
      "execution_count": null,
      "metadata": {
        "id": "k-yDnmfqeCDj"
      },
      "outputs": [],
      "source": [
        "def unify_96_to_98(data):\n",
        "\n",
        "    if data.shape[1] == 96:\n",
        "        # 각 행의 평균값 계산\n",
        "        row_mean = np.mean(data, axis=1, keepdims=True)  # (n, 1)\n",
        "        # 평균값을 2개로 확장\n",
        "        two_means = np.hstack([row_mean, row_mean])       # (n, 2)\n",
        "        # 기존 데이터 + 평균값 2개\n",
        "        data_98 = np.hstack([data, two_means])           # (n, 98)\n",
        "        return data_98\n",
        "    elif data.shape[1] == 98:\n",
        "        # 이미 98이면 그대로 반환\n",
        "        return data\n",
        "    else:\n",
        "        raise ValueError(f\"데이터 shape {data.shape}가 예상치와 다릅니다 (96 또는 98만 허용).\")"
      ]
    },
    {
      "cell_type": "markdown",
      "metadata": {
        "id": "F3cF2T4beE-2"
      },
      "source": []
    },
    {
      "cell_type": "code",
      "execution_count": null,
      "metadata": {
        "colab": {
          "base_uri": "https://localhost:8080/"
        },
        "id": "rZK3IDtgeD6W",
        "outputId": "7d90cc3b-b96a-425b-9b70-535502cd97f3"
      },
      "outputs": [
        {
          "output_type": "stream",
          "name": "stdout",
          "text": [
            "Requirement already satisfied: tqdm in /usr/local/lib/python3.11/dist-packages (4.67.1)\n"
          ]
        }
      ],
      "source": [
        "!pip install tqdm"
      ]
    },
    {
      "cell_type": "markdown",
      "metadata": {
        "id": "WQVjf4Da_Vx0"
      },
      "source": [
        "저장된 파일 데이터를 이용하는 경우"
      ]
    },
    {
      "cell_type": "code",
      "execution_count": null,
      "metadata": {
        "id": "Wj6SAw8n_SK2"
      },
      "outputs": [],
      "source": [
        "# %% [markdown]\n",
        "## 저장된 파일 데이터를 이용할때\n",
        "\n",
        "# %% [code]\n",
        "import numpy as np\n",
        "\n",
        "normal_arr = np.load(\"/content/drive/MyDrive/list/train_normal_arr.npy\")\n",
        "caution_arr = np.load(\"/content/drive/MyDrive/list/train_caution_arr.npy\")\n",
        "defect_arr = np.load(\"/content/drive/MyDrive/list/train_defect_arr.npy\")\n"
      ]
    },
    {
      "cell_type": "code",
      "execution_count": null,
      "metadata": {
        "colab": {
          "base_uri": "https://localhost:8080/"
        },
        "id": "ctzqkhVL_qte",
        "outputId": "7e7a5f06-0b3c-47d7-d5d8-68423e578a6e"
      },
      "outputs": [
        {
          "output_type": "stream",
          "name": "stdout",
          "text": [
            "최종 X shape: (64642, 100, 98)\n",
            "최종 y shape: (64642,)\n"
          ]
        }
      ],
      "source": [
        "import numpy as np\n",
        "\n",
        "# 슬라이딩 윈도우 생성 함수\n",
        "def create_sliding_windows(arr, window_size=100, step=30):\n",
        "    n_rows = arr.shape[0]\n",
        "    windows = []\n",
        "    for i in range(0, n_rows - window_size + 1, step):\n",
        "        windows.append(arr[i:i+window_size])\n",
        "    return np.array(windows)\n",
        "\n",
        "# 각 배열에 대해 슬라이딩 윈도우 적용\n",
        "normal_windows = create_sliding_windows(normal_arr, window_size=100, step=30)   # shape: (192, 100, 98)\n",
        "caution_windows = create_sliding_windows(caution_arr, window_size=100, step=30)   # shape: (197, 100, 98)\n",
        "defect_windows = create_sliding_windows(defect_arr, window_size=100, step=30)     # shape: (198, 100, 98)\n",
        "\n",
        "# 각 데이터별 라벨 생성\n",
        "normal_labels = np.zeros(len(normal_windows))         # 정상: 0, 길이: 192\n",
        "caution_labels = np.ones(len(caution_windows))          # 주의: 1, 길이: 197\n",
        "defect_labels = np.full(len(defect_windows), 2)           # 결함: 2, 길이: 198\n",
        "\n",
        "# 모든 윈도우 데이터를 concat (axis=0)하여 하나의 X 배열 생성\n",
        "X_train = np.concatenate([normal_windows, caution_windows, defect_windows], axis=0)\n",
        "# 모든 라벨을 concat하여 하나의 y 배열 생성\n",
        "y_train = np.concatenate([normal_labels, caution_labels, defect_labels], axis=0)\n",
        "\n",
        "print(\"최종 X shape:\", X_train.shape)\n",
        "print(\"최종 y shape:\", y_train.shape)\n"
      ]
    },
    {
      "cell_type": "code",
      "execution_count": null,
      "metadata": {
        "id": "PR8dHTLuvC0s"
      },
      "outputs": [],
      "source": [
        "import numpy as np\n",
        "from sklearn.ensemble import RandomForestClassifier\n",
        "\n",
        "# X의 shape: (전체 윈도우 수, 100, 98)\n",
        "n_samples, win_size, num_features = X_train.shape\n",
        "# 2차원 입력으로 변환: (전체 윈도우 수, 100*98)\n",
        "X_train = X_train.reshape(n_samples, win_size * num_features)"
      ]
    },
    {
      "cell_type": "code",
      "source": [
        "print(X_train.shape)"
      ],
      "metadata": {
        "colab": {
          "base_uri": "https://localhost:8080/"
        },
        "id": "dNFBQHk-n81j",
        "outputId": "55eb1bfd-56ea-4b96-b57e-f7fd6fe93353"
      },
      "execution_count": null,
      "outputs": [
        {
          "output_type": "stream",
          "name": "stdout",
          "text": [
            "(64642, 9800)\n"
          ]
        }
      ]
    },
    {
      "cell_type": "markdown",
      "source": [
        "CNN 이미지의 사이즈를 다시 맞춰 주기"
      ],
      "metadata": {
        "id": "OHahz0okpDXd"
      }
    },
    {
      "cell_type": "code",
      "source": [
        "import math\n",
        "\n",
        "pixel_count = 9800  # 현재 한 샘플의 픽셀 수\n",
        "for c in [1, 3]:  # 흑백(1채널) 또는 컬러(3채널) 가정\n",
        "    h_w = pixel_count / c\n",
        "    sqrt_hw = math.sqrt(h_w)\n",
        "    if sqrt_hw.is_integer():\n",
        "        print(f\"Possible shape: ({int(sqrt_hw)}, {int(sqrt_hw)}, {c})\")\n"
      ],
      "metadata": {
        "id": "pFJwIAnGoZg-"
      },
      "execution_count": null,
      "outputs": []
    },
    {
      "cell_type": "code",
      "source": [
        "X_train = X_train.reshape(-1, 100, 98, 1)  # 흑백 이미지라면\n",
        "X_train = np.repeat(X_train, 3, axis=-1)  # 1채널 → 3채널 변환 (필요한 경우)\n"
      ],
      "metadata": {
        "id": "akGd61Wno3D_"
      },
      "execution_count": null,
      "outputs": []
    },
    {
      "cell_type": "markdown",
      "metadata": {
        "id": "GhBXNXy3eRF4"
      },
      "source": [
        "LSTM 기반 CNN코드 작성 진행"
      ]
    },
    {
      "cell_type": "code",
      "source": [
        "import os\n",
        "import numpy as np\n",
        "import tensorflow as tf\n",
        "from tensorflow.keras.models import Sequential\n",
        "from tensorflow.keras.layers import Conv2D, MaxPooling2D, Flatten, Dense, Dropout, BatchNormalization\n",
        "from tensorflow.keras.callbacks import EarlyStopping, ModelCheckpoint\n",
        "from google.colab import drive\n",
        "\n",
        "# Google Drive 연결\n",
        "drive.mount('/content/drive', force_remount=True)\n",
        "\n",
        "# 데이터 로드\n",
        "X_train_path = '/content/drive/MyDrive/X_train.npy'\n",
        "Y_train_path = '/content/drive/MyDrive/Y_train.npy'\n",
        "\n",
        "X_train = np.load(X_train_path)\n",
        "y_train = np.load(Y_train_path)\n",
        "\n",
        "# 데이터 크기 확인\n",
        "print(\"Original X_train shape:\", X_train.shape)\n",
        "\n",
        "# 데이터 차원 변경 (CNN 입력 형태 맞추기)\n",
        "num_samples = X_train.shape[0]  # 샘플 개수\n",
        "feature_size = X_train.shape[1]  # 각 샘플의 feature 개수\n",
        "\n",
        "# CNN 입력에 맞는 이미지 크기 자동 탐색\n",
        "possible_shapes = [(100, 98, 1), (70, 70, 2)]  # 예상 가능한 크기\n",
        "image_shape = None\n",
        "\n",
        "for shape in possible_shapes:\n",
        "    h, w, c = shape\n",
        "    if h * w * c == feature_size:\n",
        "        image_shape = (h, w, c)\n",
        "        break\n",
        "\n",
        "if image_shape is None:\n",
        "    raise ValueError(f\"Cannot reshape data with feature size {feature_size} into valid image format. Check the original dataset.\")\n",
        "\n",
        "img_width, img_height, channels = image_shape\n",
        "X_train = X_train.reshape(num_samples, img_width, img_height, channels)\n",
        "print(f\"Reshaped X_train to: {X_train.shape}\")\n",
        "\n",
        "# 1채널(흑백) → 3채널(RGB) 변환 (필요 시)\n",
        "if channels == 1:\n",
        "    X_train = np.repeat(X_train, 3, axis=-1)\n",
        "    print(f\"Converted grayscale images to RGB, new shape: {X_train.shape}\")\n",
        "\n",
        "# 하이퍼파라미터 설정\n",
        "batch_size = 32\n",
        "epochs = 50\n",
        "\n",
        "# CNN 모델 구성\n",
        "model = Sequential([\n",
        "    Conv2D(32, (3, 3), activation='relu', input_shape=(img_width, img_height, 3)),\n",
        "    BatchNormalization(),\n",
        "    MaxPooling2D(pool_size=(2, 2)),\n",
        "\n",
        "    Conv2D(64, (3, 3), activation='relu'),\n",
        "    BatchNormalization(),\n",
        "    MaxPooling2D(pool_size=(2, 2)),\n",
        "\n",
        "    Conv2D(128, (3, 3), activation='relu'),\n",
        "    BatchNormalization(),\n",
        "    MaxPooling2D(pool_size=(2, 2)),\n",
        "\n",
        "    Flatten(),\n",
        "    Dense(128, activation='relu'),\n",
        "    Dropout(0.5),\n",
        "    Dense(len(np.unique(y_train)), activation='softmax')\n",
        "])\n",
        "\n",
        "# 모델 컴파일\n",
        "model.compile(optimizer='adam', loss='sparse_categorical_crossentropy', metrics=['accuracy'])\n",
        "\n",
        "# 모델 저장 경로 설정\n",
        "model_dir = '/content/drive/MyDrive/models'\n",
        "os.makedirs(model_dir, exist_ok=True)\n",
        "checkpoint_path = os.path.join(model_dir, 'best_model.h5')\n",
        "\n",
        "# 콜백 설정\n",
        "callbacks = [\n",
        "    EarlyStopping(monitor='val_loss', patience=10, verbose=1, restore_best_weights=True),\n",
        "    ModelCheckpoint(checkpoint_path, monitor='val_loss', save_best_only=True, verbose=1)\n",
        "]\n",
        "\n",
        "# 모델 학습\n",
        "history = model.fit(\n",
        "    X_train, y_train,\n",
        "    batch_size=batch_size,\n",
        "    epochs=epochs,\n",
        "    validation_split=0.2,\n",
        "    callbacks=callbacks\n",
        ")\n",
        "\n",
        "# 최종 모델 저장\n",
        "final_model_path = os.path.join(model_dir, 'cnn_final_model.h5')\n",
        "model.save(final_model_path)\n",
        "print(\"✅ 모델 학습 및 저장 완료!\")"
      ],
      "metadata": {
        "colab": {
          "base_uri": "https://localhost:8080/"
        },
        "id": "nYWHyenYro4U",
        "outputId": "546acdb1-647f-4d2b-cc94-aa0d0852dde3"
      },
      "execution_count": null,
      "outputs": [
        {
          "output_type": "stream",
          "name": "stdout",
          "text": [
            "Mounted at /content/drive\n",
            "Original X_train shape: (64642, 9800)\n",
            "Reshaped X_train to: (64642, 100, 98, 1)\n",
            "Converted grayscale images to RGB, new shape: (64642, 100, 98, 3)\n"
          ]
        },
        {
          "output_type": "stream",
          "name": "stderr",
          "text": [
            "/usr/local/lib/python3.11/dist-packages/keras/src/layers/convolutional/base_conv.py:107: UserWarning: Do not pass an `input_shape`/`input_dim` argument to a layer. When using Sequential models, prefer using an `Input(shape)` object as the first layer in the model instead.\n",
            "  super().__init__(activity_regularizer=activity_regularizer, **kwargs)\n"
          ]
        },
        {
          "output_type": "stream",
          "name": "stdout",
          "text": [
            "Epoch 1/50\n",
            "\u001b[1m1617/1617\u001b[0m \u001b[32m━━━━━━━━━━━━━━━━━━━━\u001b[0m\u001b[37m\u001b[0m \u001b[1m0s\u001b[0m 6ms/step - accuracy: 0.9453 - loss: 0.4197\n",
            "Epoch 1: val_loss improved from inf to 5.94617, saving model to /content/drive/MyDrive/models/best_model.h5\n"
          ]
        },
        {
          "output_type": "stream",
          "name": "stderr",
          "text": [
            "WARNING:absl:You are saving your model as an HDF5 file via `model.save()` or `keras.saving.save_model(model)`. This file format is considered legacy. We recommend using instead the native Keras format, e.g. `model.save('my_model.keras')` or `keras.saving.save_model(model, 'my_model.keras')`. \n"
          ]
        },
        {
          "output_type": "stream",
          "name": "stdout",
          "text": [
            "\b\b\b\b\b\b\b\b\b\b\b\b\b\b\b\b\b\b\b\b\b\b\b\b\b\b\b\b\b\b\b\b\b\b\b\b\b\b\b\b\b\b\b\b\b\b\b\b\b\b\b\b\b\b\b\b\b\b\b\b\b\b\b\b\b\b\b\b\b\b\b\b\b\b\b\b\r\u001b[1m1617/1617\u001b[0m \u001b[32m━━━━━━━━━━━━━━━━━━━━\u001b[0m\u001b[37m\u001b[0m \u001b[1m24s\u001b[0m 10ms/step - accuracy: 0.9453 - loss: 0.4196 - val_accuracy: 0.6297 - val_loss: 5.9462\n",
            "Epoch 2/50\n",
            "\u001b[1m1617/1617\u001b[0m \u001b[32m━━━━━━━━━━━━━━━━━━━━\u001b[0m\u001b[37m\u001b[0m \u001b[1m0s\u001b[0m 5ms/step - accuracy: 0.9925 - loss: 0.0317\n",
            "Epoch 2: val_loss improved from 5.94617 to 5.37545, saving model to /content/drive/MyDrive/models/best_model.h5\n"
          ]
        },
        {
          "output_type": "stream",
          "name": "stderr",
          "text": [
            "WARNING:absl:You are saving your model as an HDF5 file via `model.save()` or `keras.saving.save_model(model)`. This file format is considered legacy. We recommend using instead the native Keras format, e.g. `model.save('my_model.keras')` or `keras.saving.save_model(model, 'my_model.keras')`. \n"
          ]
        },
        {
          "output_type": "stream",
          "name": "stdout",
          "text": [
            "\b\b\b\b\b\b\b\b\b\b\b\b\b\b\b\b\b\b\b\b\b\b\b\b\b\b\b\b\b\b\b\b\b\b\b\b\b\b\b\b\b\b\b\b\b\b\b\b\b\b\b\b\b\b\b\b\b\b\b\b\b\b\b\b\b\b\b\b\b\b\b\b\b\b\b\b\r\u001b[1m1617/1617\u001b[0m \u001b[32m━━━━━━━━━━━━━━━━━━━━\u001b[0m\u001b[37m\u001b[0m \u001b[1m9s\u001b[0m 6ms/step - accuracy: 0.9925 - loss: 0.0317 - val_accuracy: 0.4325 - val_loss: 5.3754\n",
            "Epoch 3/50\n",
            "\u001b[1m1609/1617\u001b[0m \u001b[32m━━━━━━━━━━━━━━━━━━━\u001b[0m\u001b[37m━\u001b[0m \u001b[1m0s\u001b[0m 5ms/step - accuracy: 0.9828 - loss: 0.0855\n",
            "Epoch 3: val_loss did not improve from 5.37545\n",
            "\u001b[1m1617/1617\u001b[0m \u001b[32m━━━━━━━━━━━━━━━━━━━━\u001b[0m\u001b[37m\u001b[0m \u001b[1m9s\u001b[0m 6ms/step - accuracy: 0.9828 - loss: 0.0853 - val_accuracy: 0.6185 - val_loss: 5.5807\n",
            "Epoch 4/50\n",
            "\u001b[1m1615/1617\u001b[0m \u001b[32m━━━━━━━━━━━━━━━━━━━\u001b[0m\u001b[37m━\u001b[0m \u001b[1m0s\u001b[0m 5ms/step - accuracy: 0.9888 - loss: 0.0569\n",
            "Epoch 4: val_loss did not improve from 5.37545\n",
            "\u001b[1m1617/1617\u001b[0m \u001b[32m━━━━━━━━━━━━━━━━━━━━\u001b[0m\u001b[37m\u001b[0m \u001b[1m9s\u001b[0m 6ms/step - accuracy: 0.9888 - loss: 0.0568 - val_accuracy: 0.6552 - val_loss: 9.1851\n",
            "Epoch 5/50\n",
            "\u001b[1m1613/1617\u001b[0m \u001b[32m━━━━━━━━━━━━━━━━━━━\u001b[0m\u001b[37m━\u001b[0m \u001b[1m0s\u001b[0m 5ms/step - accuracy: 0.9838 - loss: 0.0723\n",
            "Epoch 5: val_loss did not improve from 5.37545\n",
            "\u001b[1m1617/1617\u001b[0m \u001b[32m━━━━━━━━━━━━━━━━━━━━\u001b[0m\u001b[37m\u001b[0m \u001b[1m9s\u001b[0m 5ms/step - accuracy: 0.9838 - loss: 0.0723 - val_accuracy: 0.5687 - val_loss: 9.1814\n",
            "Epoch 6/50\n",
            "\u001b[1m1607/1617\u001b[0m \u001b[32m━━━━━━━━━━━━━━━━━━━\u001b[0m\u001b[37m━\u001b[0m \u001b[1m0s\u001b[0m 5ms/step - accuracy: 0.9914 - loss: 0.0365\n",
            "Epoch 6: val_loss did not improve from 5.37545\n",
            "\u001b[1m1617/1617\u001b[0m \u001b[32m━━━━━━━━━━━━━━━━━━━━\u001b[0m\u001b[37m\u001b[0m \u001b[1m9s\u001b[0m 5ms/step - accuracy: 0.9914 - loss: 0.0365 - val_accuracy: 0.3902 - val_loss: 27.8964\n",
            "Epoch 7/50\n",
            "\u001b[1m1612/1617\u001b[0m \u001b[32m━━━━━━━━━━━━━━━━━━━\u001b[0m\u001b[37m━\u001b[0m \u001b[1m0s\u001b[0m 5ms/step - accuracy: 0.9906 - loss: 0.0442\n",
            "Epoch 7: val_loss did not improve from 5.37545\n",
            "\u001b[1m1617/1617\u001b[0m \u001b[32m━━━━━━━━━━━━━━━━━━━━\u001b[0m\u001b[37m\u001b[0m \u001b[1m9s\u001b[0m 5ms/step - accuracy: 0.9906 - loss: 0.0443 - val_accuracy: 0.5021 - val_loss: 15.7184\n",
            "Epoch 8/50\n",
            "\u001b[1m1610/1617\u001b[0m \u001b[32m━━━━━━━━━━━━━━━━━━━\u001b[0m\u001b[37m━\u001b[0m \u001b[1m0s\u001b[0m 4ms/step - accuracy: 0.9921 - loss: 0.0397\n",
            "Epoch 8: val_loss did not improve from 5.37545\n",
            "\u001b[1m1617/1617\u001b[0m \u001b[32m━━━━━━━━━━━━━━━━━━━━\u001b[0m\u001b[37m\u001b[0m \u001b[1m9s\u001b[0m 5ms/step - accuracy: 0.9921 - loss: 0.0397 - val_accuracy: 0.1128 - val_loss: 47.3244\n",
            "Epoch 9/50\n",
            "\u001b[1m1614/1617\u001b[0m \u001b[32m━━━━━━━━━━━━━━━━━━━\u001b[0m\u001b[37m━\u001b[0m \u001b[1m0s\u001b[0m 4ms/step - accuracy: 0.9930 - loss: 0.0319\n",
            "Epoch 9: val_loss did not improve from 5.37545\n",
            "\u001b[1m1617/1617\u001b[0m \u001b[32m━━━━━━━━━━━━━━━━━━━━\u001b[0m\u001b[37m\u001b[0m \u001b[1m9s\u001b[0m 5ms/step - accuracy: 0.9930 - loss: 0.0319 - val_accuracy: 0.5130 - val_loss: 21.1322\n",
            "Epoch 10/50\n",
            "\u001b[1m1607/1617\u001b[0m \u001b[32m━━━━━━━━━━━━━━━━━━━\u001b[0m\u001b[37m━\u001b[0m \u001b[1m0s\u001b[0m 4ms/step - accuracy: 0.9933 - loss: 0.0366\n",
            "Epoch 10: val_loss did not improve from 5.37545\n",
            "\u001b[1m1617/1617\u001b[0m \u001b[32m━━━━━━━━━━━━━━━━━━━━\u001b[0m\u001b[37m\u001b[0m \u001b[1m8s\u001b[0m 5ms/step - accuracy: 0.9933 - loss: 0.0366 - val_accuracy: 0.0217 - val_loss: 80.0647\n",
            "Epoch 11/50\n",
            "\u001b[1m1617/1617\u001b[0m \u001b[32m━━━━━━━━━━━━━━━━━━━━\u001b[0m\u001b[37m\u001b[0m \u001b[1m0s\u001b[0m 4ms/step - accuracy: 0.9944 - loss: 0.0310\n",
            "Epoch 11: val_loss did not improve from 5.37545\n",
            "\u001b[1m1617/1617\u001b[0m \u001b[32m━━━━━━━━━━━━━━━━━━━━\u001b[0m\u001b[37m\u001b[0m \u001b[1m9s\u001b[0m 5ms/step - accuracy: 0.9944 - loss: 0.0310 - val_accuracy: 0.4848 - val_loss: 25.1663\n",
            "Epoch 12/50\n",
            "\u001b[1m1612/1617\u001b[0m \u001b[32m━━━━━━━━━━━━━━━━━━━\u001b[0m\u001b[37m━\u001b[0m \u001b[1m0s\u001b[0m 4ms/step - accuracy: 0.9927 - loss: 0.0384\n",
            "Epoch 12: val_loss did not improve from 5.37545\n",
            "\u001b[1m1617/1617\u001b[0m \u001b[32m━━━━━━━━━━━━━━━━━━━━\u001b[0m\u001b[37m\u001b[0m \u001b[1m9s\u001b[0m 5ms/step - accuracy: 0.9927 - loss: 0.0384 - val_accuracy: 0.4504 - val_loss: 10.3018\n",
            "Epoch 12: early stopping\n",
            "Restoring model weights from the end of the best epoch: 2.\n"
          ]
        },
        {
          "output_type": "stream",
          "name": "stderr",
          "text": [
            "WARNING:absl:You are saving your model as an HDF5 file via `model.save()` or `keras.saving.save_model(model)`. This file format is considered legacy. We recommend using instead the native Keras format, e.g. `model.save('my_model.keras')` or `keras.saving.save_model(model, 'my_model.keras')`. \n"
          ]
        },
        {
          "output_type": "stream",
          "name": "stdout",
          "text": [
            "✅ 모델 학습 및 저장 완료!\n"
          ]
        }
      ]
    },
    {
      "cell_type": "markdown",
      "metadata": {
        "id": "QBPvhUbteTpE"
      },
      "source": [
        "https://pseudo-lab.github.io/Tutorial-Book/chapters/time-series/Ch5-CNN-LSTM.html 참고"
      ]
    },
    {
      "cell_type": "code",
      "source": [
        "\n",
        "\n",
        "import matplotlib.pyplot as plt\n",
        "\n",
        "# Plot training & validation accuracy values\n",
        "plt.figure(figsize=(10, 5))\n",
        "plt.subplot(1, 2, 1)\n",
        "plt.plot(history.history['accuracy'])\n",
        "plt.plot(history.history['val_accuracy'])\n",
        "plt.title('Model accuracy')\n",
        "plt.ylabel('Accuracy')\n",
        "plt.xlabel('Epoch')\n",
        "plt.legend(['Train', 'Validation'], loc='upper left')\n",
        "\n",
        "# Plot training & validation loss values\n",
        "plt.subplot(1, 2, 2)\n",
        "plt.plot(history.history['loss'])\n",
        "plt.plot(history.history['val_loss'])\n",
        "plt.title('Model loss')\n",
        "plt.ylabel('Loss')\n",
        "plt.xlabel('Epoch')\n",
        "plt.legend(['Train', 'Validation'], loc='upper left')\n",
        "plt.show()\n"
      ],
      "metadata": {
        "colab": {
          "base_uri": "https://localhost:8080/",
          "height": 372
        },
        "id": "cwE9l6p_rkNC",
        "outputId": "30434c66-29cf-4e21-93a2-27f0a9122a1d"
      },
      "execution_count": null,
      "outputs": [
        {
          "output_type": "display_data",
          "data": {
            "text/plain": [
              "<Figure size 1000x500 with 2 Axes>"
            ],
            "image/png": "[encoded data removed]"
          },
          "metadata": {}
        }
      ]
    },
    {
      "cell_type": "markdown",
      "metadata": {
        "id": "LjLgXtMmAOaf"
      },
      "source": [
        "SHAP모델 코드 구현"
      ]
    },
    {
      "cell_type": "code",
      "source": [
        "import math\n",
        "pixel_count = 9800  # 한 샘플의 픽셀 수\n",
        "for c in [1, 3]:  # 흑백(1채널) 또는 컬러(3채널) 가정\n",
        "    h_w = pixel_count / c\n",
        "    sqrt_hw = math.sqrt(h_w)\n",
        "    if sqrt_hw.is_integer():\n",
        "        print(f\"Possible shape: ({int(sqrt_hw)}, {int(sqrt_hw)}, {c})\")\n"
      ],
      "metadata": {
        "id": "b3HsLUfZ73xX"
      },
      "execution_count": null,
      "outputs": []
    },
    {
      "cell_type": "code",
      "source": [
        "import math\n",
        "\n",
        "pixel_count = 9800  # 샘플 하나의 픽셀 수\n",
        "for c in [1, 3]:  # 흑백(1채널) 또는 컬러(3채널) 가정\n",
        "    h_w = pixel_count / c\n",
        "    sqrt_hw = math.sqrt(h_w)\n",
        "    if sqrt_hw.is_integer():\n",
        "        print(f\"Possible shape: ({int(sqrt_hw)}, {int(sqrt_hw)}, {c})\")\n"
      ],
      "metadata": {
        "id": "1KEE5mYe8KVb"
      },
      "execution_count": null,
      "outputs": []
    },
    {
      "cell_type": "code",
      "source": [
        "sample_img_expanded = sample_img.reshape(1, 100, 98, 1)  # 흑백 채널\n",
        "sample_img_expanded = np.repeat(sample_img_expanded, 3, axis=-1)  # 1채널 → 3채널 변환\n"
      ],
      "metadata": {
        "id": "SfwOMuKW77s1"
      },
      "execution_count": null,
      "outputs": []
    },
    {
      "cell_type": "code",
      "source": [
        "# 예제 이미지 선택\n",
        "sample_img = X_train[0]  # 예제 이미지 선택\n",
        "\n",
        "# CNN 입력에 맞게 변환 (100, 98, 1) -> (100, 98, 3)\n",
        "sample_img_expanded = sample_img.reshape(1, 100, 98, 1)  # 흑백 이미지로 변환\n",
        "sample_img_expanded = np.repeat(sample_img_expanded, 3, axis=-1)  # 3채널로 확장\n",
        "\n",
        "# Grad-CAM 적용\n",
        "target_layer = 'conv2d_2'  # 시각화할 합성곱 계층 (모델의 구조에 맞게 수정 필요)\n",
        "heatmap = grad_cam(model, sample_img_expanded, target_layer)\n"
      ],
      "metadata": {
        "colab": {
          "base_uri": "https://localhost:8080/",
          "height": 339
        },
        "id": "62wBzVHs8NH4",
        "outputId": "84ec3ec2-5755-4cf7-ad0e-cd685a6a7476"
      },
      "execution_count": null,
      "outputs": [
        {
          "output_type": "error",
          "ename": "AttributeError",
          "evalue": "The layer sequential has never been called and thus has no defined input.",
          "traceback": [
            "\u001b[0;31m---------------------------------------------------------------------------\u001b[0m",
            "\u001b[0;31mAttributeError\u001b[0m                            Traceback (most recent call last)",
            "\u001b[0;32m<ipython-input-28-a527a30cbdc8>\u001b[0m in \u001b[0;36m<cell line: 0>\u001b[0;34m()\u001b[0m\n\u001b[1;32m      8\u001b[0m \u001b[0;31m# Grad-CAM 적용\u001b[0m\u001b[0;34m\u001b[0m\u001b[0;34m\u001b[0m\u001b[0m\n\u001b[1;32m      9\u001b[0m \u001b[0mtarget_layer\u001b[0m \u001b[0;34m=\u001b[0m \u001b[0;34m'conv2d_2'\u001b[0m  \u001b[0;31m# 시각화할 합성곱 계층 (모델의 구조에 맞게 수정 필요)\u001b[0m\u001b[0;34m\u001b[0m\u001b[0;34m\u001b[0m\u001b[0m\n\u001b[0;32m---> 10\u001b[0;31m \u001b[0mheatmap\u001b[0m \u001b[0;34m=\u001b[0m \u001b[0mgrad_cam\u001b[0m\u001b[0;34m(\u001b[0m\u001b[0mmodel\u001b[0m\u001b[0;34m,\u001b[0m \u001b[0msample_img_expanded\u001b[0m\u001b[0;34m,\u001b[0m \u001b[0mtarget_layer\u001b[0m\u001b[0;34m)\u001b[0m\u001b[0;34m\u001b[0m\u001b[0;34m\u001b[0m\u001b[0m\n\u001b[0m",
            "\u001b[0;32m<ipython-input-25-4bed94c119af>\u001b[0m in \u001b[0;36mgrad_cam\u001b[0;34m(model, img_array, layer_name)\u001b[0m\n\u001b[1;32m     11\u001b[0m     \u001b[0mimg_array\u001b[0m \u001b[0;34m=\u001b[0m \u001b[0mtf\u001b[0m\u001b[0;34m.\u001b[0m\u001b[0mreshape\u001b[0m\u001b[0;34m(\u001b[0m\u001b[0mimg_array\u001b[0m\u001b[0;34m,\u001b[0m \u001b[0;34m(\u001b[0m\u001b[0;34m-\u001b[0m\u001b[0;36m1\u001b[0m\u001b[0;34m,\u001b[0m \u001b[0;36m100\u001b[0m\u001b[0;34m,\u001b[0m \u001b[0;36m98\u001b[0m\u001b[0;34m,\u001b[0m \u001b[0;36m3\u001b[0m\u001b[0;34m)\u001b[0m\u001b[0;34m)\u001b[0m  \u001b[0;31m# CNN 입력 크기에 맞게 변환\u001b[0m\u001b[0;34m\u001b[0m\u001b[0;34m\u001b[0m\u001b[0m\n\u001b[1;32m     12\u001b[0m \u001b[0;34m\u001b[0m\u001b[0m\n\u001b[0;32m---> 13\u001b[0;31m     \u001b[0mgrad_model\u001b[0m \u001b[0;34m=\u001b[0m \u001b[0mModel\u001b[0m\u001b[0;34m(\u001b[0m\u001b[0minputs\u001b[0m\u001b[0;34m=\u001b[0m\u001b[0mmodel\u001b[0m\u001b[0;34m.\u001b[0m\u001b[0minput\u001b[0m\u001b[0;34m,\u001b[0m \u001b[0moutputs\u001b[0m\u001b[0;34m=\u001b[0m\u001b[0;34m[\u001b[0m\u001b[0mmodel\u001b[0m\u001b[0;34m.\u001b[0m\u001b[0mget_layer\u001b[0m\u001b[0;34m(\u001b[0m\u001b[0mlayer_name\u001b[0m\u001b[0;34m)\u001b[0m\u001b[0;34m.\u001b[0m\u001b[0moutput\u001b[0m\u001b[0;34m,\u001b[0m \u001b[0mmodel\u001b[0m\u001b[0;34m.\u001b[0m\u001b[0moutput\u001b[0m\u001b[0;34m]\u001b[0m\u001b[0;34m)\u001b[0m\u001b[0;34m\u001b[0m\u001b[0;34m\u001b[0m\u001b[0m\n\u001b[0m\u001b[1;32m     14\u001b[0m \u001b[0;34m\u001b[0m\u001b[0m\n\u001b[1;32m     15\u001b[0m     \u001b[0;32mwith\u001b[0m \u001b[0mtf\u001b[0m\u001b[0;34m.\u001b[0m\u001b[0mGradientTape\u001b[0m\u001b[0;34m(\u001b[0m\u001b[0;34m)\u001b[0m \u001b[0;32mas\u001b[0m \u001b[0mtape\u001b[0m\u001b[0;34m:\u001b[0m\u001b[0;34m\u001b[0m\u001b[0;34m\u001b[0m\u001b[0m\n",
            "\u001b[0;32m/usr/local/lib/python3.11/dist-packages/keras/src/ops/operation.py\u001b[0m in \u001b[0;36minput\u001b[0;34m(self)\u001b[0m\n\u001b[1;32m    252\u001b[0m             \u001b[0mInput\u001b[0m \u001b[0mtensor\u001b[0m \u001b[0;32mor\u001b[0m \u001b[0mlist\u001b[0m \u001b[0mof\u001b[0m \u001b[0minput\u001b[0m \u001b[0mtensors\u001b[0m\u001b[0;34m.\u001b[0m\u001b[0;34m\u001b[0m\u001b[0;34m\u001b[0m\u001b[0m\n\u001b[1;32m    253\u001b[0m         \"\"\"\n\u001b[0;32m--> 254\u001b[0;31m         \u001b[0;32mreturn\u001b[0m \u001b[0mself\u001b[0m\u001b[0;34m.\u001b[0m\u001b[0m_get_node_attribute_at_index\u001b[0m\u001b[0;34m(\u001b[0m\u001b[0;36m0\u001b[0m\u001b[0;34m,\u001b[0m \u001b[0;34m\"input_tensors\"\u001b[0m\u001b[0;34m,\u001b[0m \u001b[0;34m\"input\"\u001b[0m\u001b[0;34m)\u001b[0m\u001b[0;34m\u001b[0m\u001b[0;34m\u001b[0m\u001b[0m\n\u001b[0m\u001b[1;32m    255\u001b[0m \u001b[0;34m\u001b[0m\u001b[0m\n\u001b[1;32m    256\u001b[0m     \u001b[0;34m@\u001b[0m\u001b[0mproperty\u001b[0m\u001b[0;34m\u001b[0m\u001b[0;34m\u001b[0m\u001b[0m\n",
            "\u001b[0;32m/usr/local/lib/python3.11/dist-packages/keras/src/ops/operation.py\u001b[0m in \u001b[0;36m_get_node_attribute_at_index\u001b[0;34m(self, node_index, attr, attr_name)\u001b[0m\n\u001b[1;32m    283\u001b[0m         \"\"\"\n\u001b[1;32m    284\u001b[0m         \u001b[0;32mif\u001b[0m \u001b[0;32mnot\u001b[0m \u001b[0mself\u001b[0m\u001b[0;34m.\u001b[0m\u001b[0m_inbound_nodes\u001b[0m\u001b[0;34m:\u001b[0m\u001b[0;34m\u001b[0m\u001b[0;34m\u001b[0m\u001b[0m\n\u001b[0;32m--> 285\u001b[0;31m             raise AttributeError(\n\u001b[0m\u001b[1;32m    286\u001b[0m                 \u001b[0;34mf\"The layer {self.name} has never been called \"\u001b[0m\u001b[0;34m\u001b[0m\u001b[0;34m\u001b[0m\u001b[0m\n\u001b[1;32m    287\u001b[0m                 \u001b[0;34mf\"and thus has no defined {attr_name}.\"\u001b[0m\u001b[0;34m\u001b[0m\u001b[0;34m\u001b[0m\u001b[0m\n",
            "\u001b[0;31mAttributeError\u001b[0m: The layer sequential has never been called and thus has no defined input."
          ]
        }
      ]
    },
    {
      "cell_type": "code",
      "source": [
        "import numpy as np\n",
        "import tensorflow as tf\n",
        "import shap\n",
        "import matplotlib.pyplot as plt\n",
        "import cv2\n",
        "from tensorflow.keras.models import Model\n",
        "from tensorflow.keras.preprocessing.image import array_to_img\n",
        "\n",
        "# Grad-CAM 함수 정의\n",
        "def grad_cam(model, img_array, layer_name):\n",
        "    img_array = tf.convert_to_tensor(img_array, dtype=tf.float32)\n",
        "    img_array = tf.reshape(img_array, (-1, 100, 98, 3))  # CNN 입력 크기에 맞게 변환\n",
        "\n",
        "    _ = model(img_array, training=False)\n",
        "\n",
        "    grad_model = Model(inputs=model.input, outputs=[model.get_layer(layer_name).output, model.output])\n",
        "\n",
        "    with tf.GradientTape() as tape:\n",
        "        conv_outputs, predictions = grad_model(img_array, training=False)\n",
        "        class_idx = tf.argmax(predictions[0])  # 예측된 클래스\n",
        "        loss = predictions[:, class_idx]\n",
        "\n",
        "    grads = tape.gradient(loss, conv_outputs)  # 그래디언트 계산\n",
        "    pooled_grads = tf.reduce_mean(grads, axis=(0, 1, 2))\n",
        "    conv_outputs = conv_outputs[0]  # 특징 맵\n",
        "\n",
        "    for i in range(conv_outputs.shape[-1]):\n",
        "        conv_outputs[:, :, i] *= pooled_grads[i]\n",
        "\n",
        "    heatmap = tf.reduce_mean(conv_outputs, axis=-1)\n",
        "    heatmap = np.maximum(heatmap, 0)  # ReLU 적용\n",
        "    if np.max(heatmap) != 0:\n",
        "        heatmap /= np.max(heatmap)  # 정규화\n",
        "    return heatmap\n",
        "\n",
        "# SHAP 해석 함수 정의\n",
        "def shap_explanation(model, img_array):\n",
        "    explainer = shap.Explainer(model, img_array)\n",
        "    shap_values = explainer(img_array)\n",
        "    return shap_values\n",
        "\n",
        "# 모델 로드\n",
        "model_path = '/content/drive/MyDrive/models/cnn_final_model.h5'\n",
        "model = tf.keras.models.load_model(model_path, compile=False)\n",
        "\n",
        "# 데이터 로드 및 차원 변경\n",
        "X_train = np.load('/content/drive/MyDrive/X_train.npy')\n",
        "y_train = np.load('/content/drive/MyDrive/Y_train.npy')\n",
        "\n",
        "sample_img = X_train[0]\n",
        "sample_img_expanded = sample_img.reshape(1, 100, 98, 1)\n",
        "sample_img_expanded = np.repeat(sample_img_expanded, 3, axis=-1)\n",
        "\n",
        "_ = model(sample_img_expanded, training=False)\n",
        "\n",
        "# Grad-CAM 적용\n",
        "target_layer = 'conv2d_2'\n",
        "heatmap = grad_cam(model, sample_img_expanded, target_layer)\n",
        "\n",
        "# SHAP 적용\n",
        "shap_values = shap_explanation(model, sample_img_expanded)\n",
        "\n",
        "# 시각화\n",
        "original_img = np.uint8(255 * (sample_img / np.max(sample_img)))\n",
        "if original_img.shape[-1] == 1:\n",
        "    original_img = np.squeeze(original_img, axis=-1)\n",
        "    original_img = cv2.cvtColor(original_img, cv2.COLOR_GRAY2RGB)\n",
        "\n",
        "result_img = cv2.addWeighted(original_img, 0.5, cv2.applyColorMap(cv2.resize(heatmap, (original_img.shape[1], original_img.shape[0])), cv2.COLORMAP_JET), 0.5, 0)\n",
        "\n",
        "plt.figure(figsize=(15, 5))\n",
        "plt.subplot(1, 3, 1)\n",
        "plt.title('Original Image')\n",
        "plt.imshow(original_img)\n",
        "plt.axis('off')\n",
        "\n",
        "plt.subplot(1, 3, 2)\n",
        "plt.title('Grad-CAM Heatmap')\n",
        "plt.imshow(heatmap, cmap='jet')\n",
        "plt.axis('off')\n",
        "\n",
        "plt.subplot(1, 3, 3)\n",
        "plt.title('Overlayed Image')\n",
        "plt.imshow(result_img)\n",
        "plt.axis('off')\n",
        "\n",
        "plt.show()\n",
        "\n",
        "# SHAP 시각화\n",
        "shap.image_plot(shap_values)\n",
        "\n",
        "# Grad-CAM vs SHAP 비교 테이블 출력\n",
        "import pandas as pd\n",
        "comparison_table = pd.DataFrame({\n",
        "    'Method': ['Grad-CAM', 'SHAP'],\n",
        "    'Interpretability': ['Highlights regions influencing predictions', 'Feature importance at pixel level'],\n",
        "    'Computation Time': ['Fast', 'Slow'],\n",
        "    'Robustness': ['Can be misleading in deeper layers', 'More stable across different inputs'],\n",
        "    'Use Case': ['Visualizing CNN attention', 'Explaining individual predictions']\n",
        "})\n",
        "\n",
        "import ace_tools as tools\n",
        "tools.display_dataframe_to_user(name=\"Grad-CAM vs SHAP Comparison\", dataframe=comparison_table)\n"
      ],
      "metadata": {
        "colab": {
          "base_uri": "https://localhost:8080/",
          "height": 373
        },
        "id": "T7ytnwcI8qZb",
        "outputId": "a540120f-3bd2-41b5-cf6c-05260554897d"
      },
      "execution_count": null,
      "outputs": [
        {
          "output_type": "error",
          "ename": "AttributeError",
          "evalue": "The layer sequential has never been called and thus has no defined input.",
          "traceback": [
            "\u001b[0;31m---------------------------------------------------------------------------\u001b[0m",
            "\u001b[0;31mAttributeError\u001b[0m                            Traceback (most recent call last)",
            "\u001b[0;32m<ipython-input-30-a641e7c3a994>\u001b[0m in \u001b[0;36m<cell line: 0>\u001b[0;34m()\u001b[0m\n\u001b[1;32m     56\u001b[0m \u001b[0;31m# Grad-CAM 적용\u001b[0m\u001b[0;34m\u001b[0m\u001b[0;34m\u001b[0m\u001b[0m\n\u001b[1;32m     57\u001b[0m \u001b[0mtarget_layer\u001b[0m \u001b[0;34m=\u001b[0m \u001b[0;34m'conv2d_2'\u001b[0m\u001b[0;34m\u001b[0m\u001b[0;34m\u001b[0m\u001b[0m\n\u001b[0;32m---> 58\u001b[0;31m \u001b[0mheatmap\u001b[0m \u001b[0;34m=\u001b[0m \u001b[0mgrad_cam\u001b[0m\u001b[0;34m(\u001b[0m\u001b[0mmodel\u001b[0m\u001b[0;34m,\u001b[0m \u001b[0msample_img_expanded\u001b[0m\u001b[0;34m,\u001b[0m \u001b[0mtarget_layer\u001b[0m\u001b[0;34m)\u001b[0m\u001b[0;34m\u001b[0m\u001b[0;34m\u001b[0m\u001b[0m\n\u001b[0m\u001b[1;32m     59\u001b[0m \u001b[0;34m\u001b[0m\u001b[0m\n\u001b[1;32m     60\u001b[0m \u001b[0;31m# SHAP 적용\u001b[0m\u001b[0;34m\u001b[0m\u001b[0;34m\u001b[0m\u001b[0m\n",
            "\u001b[0;32m<ipython-input-30-a641e7c3a994>\u001b[0m in \u001b[0;36mgrad_cam\u001b[0;34m(model, img_array, layer_name)\u001b[0m\n\u001b[1;32m     14\u001b[0m     \u001b[0m_\u001b[0m \u001b[0;34m=\u001b[0m \u001b[0mmodel\u001b[0m\u001b[0;34m(\u001b[0m\u001b[0mimg_array\u001b[0m\u001b[0;34m,\u001b[0m \u001b[0mtraining\u001b[0m\u001b[0;34m=\u001b[0m\u001b[0;32mFalse\u001b[0m\u001b[0;34m)\u001b[0m\u001b[0;34m\u001b[0m\u001b[0;34m\u001b[0m\u001b[0m\n\u001b[1;32m     15\u001b[0m \u001b[0;34m\u001b[0m\u001b[0m\n\u001b[0;32m---> 16\u001b[0;31m     \u001b[0mgrad_model\u001b[0m \u001b[0;34m=\u001b[0m \u001b[0mModel\u001b[0m\u001b[0;34m(\u001b[0m\u001b[0minputs\u001b[0m\u001b[0;34m=\u001b[0m\u001b[0mmodel\u001b[0m\u001b[0;34m.\u001b[0m\u001b[0minput\u001b[0m\u001b[0;34m,\u001b[0m \u001b[0moutputs\u001b[0m\u001b[0;34m=\u001b[0m\u001b[0;34m[\u001b[0m\u001b[0mmodel\u001b[0m\u001b[0;34m.\u001b[0m\u001b[0mget_layer\u001b[0m\u001b[0;34m(\u001b[0m\u001b[0mlayer_name\u001b[0m\u001b[0;34m)\u001b[0m\u001b[0;34m.\u001b[0m\u001b[0moutput\u001b[0m\u001b[0;34m,\u001b[0m \u001b[0mmodel\u001b[0m\u001b[0;34m.\u001b[0m\u001b[0moutput\u001b[0m\u001b[0;34m]\u001b[0m\u001b[0;34m)\u001b[0m\u001b[0;34m\u001b[0m\u001b[0;34m\u001b[0m\u001b[0m\n\u001b[0m\u001b[1;32m     17\u001b[0m \u001b[0;34m\u001b[0m\u001b[0m\n\u001b[1;32m     18\u001b[0m     \u001b[0;32mwith\u001b[0m \u001b[0mtf\u001b[0m\u001b[0;34m.\u001b[0m\u001b[0mGradientTape\u001b[0m\u001b[0;34m(\u001b[0m\u001b[0;34m)\u001b[0m \u001b[0;32mas\u001b[0m \u001b[0mtape\u001b[0m\u001b[0;34m:\u001b[0m\u001b[0;34m\u001b[0m\u001b[0;34m\u001b[0m\u001b[0m\n",
            "\u001b[0;32m/usr/local/lib/python3.11/dist-packages/keras/src/ops/operation.py\u001b[0m in \u001b[0;36minput\u001b[0;34m(self)\u001b[0m\n\u001b[1;32m    252\u001b[0m             \u001b[0mInput\u001b[0m \u001b[0mtensor\u001b[0m \u001b[0;32mor\u001b[0m \u001b[0mlist\u001b[0m \u001b[0mof\u001b[0m \u001b[0minput\u001b[0m \u001b[0mtensors\u001b[0m\u001b[0;34m.\u001b[0m\u001b[0;34m\u001b[0m\u001b[0;34m\u001b[0m\u001b[0m\n\u001b[1;32m    253\u001b[0m         \"\"\"\n\u001b[0;32m--> 254\u001b[0;31m         \u001b[0;32mreturn\u001b[0m \u001b[0mself\u001b[0m\u001b[0;34m.\u001b[0m\u001b[0m_get_node_attribute_at_index\u001b[0m\u001b[0;34m(\u001b[0m\u001b[0;36m0\u001b[0m\u001b[0;34m,\u001b[0m \u001b[0;34m\"input_tensors\"\u001b[0m\u001b[0;34m,\u001b[0m \u001b[0;34m\"input\"\u001b[0m\u001b[0;34m)\u001b[0m\u001b[0;34m\u001b[0m\u001b[0;34m\u001b[0m\u001b[0m\n\u001b[0m\u001b[1;32m    255\u001b[0m \u001b[0;34m\u001b[0m\u001b[0m\n\u001b[1;32m    256\u001b[0m     \u001b[0;34m@\u001b[0m\u001b[0mproperty\u001b[0m\u001b[0;34m\u001b[0m\u001b[0;34m\u001b[0m\u001b[0m\n",
            "\u001b[0;32m/usr/local/lib/python3.11/dist-packages/keras/src/ops/operation.py\u001b[0m in \u001b[0;36m_get_node_attribute_at_index\u001b[0;34m(self, node_index, attr, attr_name)\u001b[0m\n\u001b[1;32m    283\u001b[0m         \"\"\"\n\u001b[1;32m    284\u001b[0m         \u001b[0;32mif\u001b[0m \u001b[0;32mnot\u001b[0m \u001b[0mself\u001b[0m\u001b[0;34m.\u001b[0m\u001b[0m_inbound_nodes\u001b[0m\u001b[0;34m:\u001b[0m\u001b[0;34m\u001b[0m\u001b[0;34m\u001b[0m\u001b[0m\n\u001b[0;32m--> 285\u001b[0;31m             raise AttributeError(\n\u001b[0m\u001b[1;32m    286\u001b[0m                 \u001b[0;34mf\"The layer {self.name} has never been called \"\u001b[0m\u001b[0;34m\u001b[0m\u001b[0;34m\u001b[0m\u001b[0m\n\u001b[1;32m    287\u001b[0m                 \u001b[0;34mf\"and thus has no defined {attr_name}.\"\u001b[0m\u001b[0;34m\u001b[0m\u001b[0;34m\u001b[0m\u001b[0m\n",
            "\u001b[0;31mAttributeError\u001b[0m: The layer sequential has never been called and thus has no defined input."
          ]
        }
      ]
    },
    {
      "cell_type": "code",
      "source": [
        "import numpy as np\n",
        "import tensorflow as tf\n",
        "import matplotlib.pyplot as plt\n",
        "import cv2\n",
        "from tensorflow.keras.models import Model\n",
        "from tensorflow.keras.preprocessing.image import array_to_img\n",
        "\n",
        "# Grad-CAM 함수 정의\n",
        "def grad_cam(model, img_array, layer_name):\n",
        "    img_array = tf.convert_to_tensor(img_array, dtype=tf.float32)\n",
        "    img_array = tf.reshape(img_array, (-1, 100, 98, 3))  # CNN 입력 크기에 맞게 변환\n",
        "\n",
        "    # 모델을 먼저 호출하여 입력 크기를 정의\n",
        "    _ = model(img_array, training=False)\n",
        "\n",
        "    grad_model = Model(inputs=model.input, outputs=[model.get_layer(layer_name).output, model.output])\n",
        "\n",
        "    with tf.GradientTape() as tape:\n",
        "        conv_outputs, predictions = grad_model(img_array, training=False)\n",
        "        class_idx = tf.argmax(predictions[0])  # 예측된 클래스\n",
        "        loss = predictions[:, class_idx]\n",
        "\n",
        "    grads = tape.gradient(loss, conv_outputs)  # 그래디언트 계산\n",
        "    pooled_grads = tf.reduce_mean(grads, axis=(0, 1, 2))\n",
        "    conv_outputs = conv_outputs[0]  # 특징 맵\n",
        "\n",
        "    # 특징 맵에 가중치 적용\n",
        "    for i in range(conv_outputs.shape[-1]):\n",
        "        conv_outputs[:, :, i] *= pooled_grads[i]\n",
        "\n",
        "    heatmap = tf.reduce_mean(conv_outputs, axis=-1)\n",
        "    heatmap = np.maximum(heatmap, 0)  # ReLU 적용\n",
        "    if np.max(heatmap) != 0:\n",
        "        heatmap /= np.max(heatmap)  # 정규화\n",
        "    return heatmap\n",
        "\n",
        "# Grad-CAM 결과를 원본 이미지 위에 시각화하는 함수\n",
        "def overlay_heatmap(img, heatmap, alpha=0.5):\n",
        "    heatmap = cv2.resize(heatmap, (img.shape[1], img.shape[0]))\n",
        "    heatmap = np.uint8(255 * heatmap)\n",
        "    heatmap = cv2.applyColorMap(heatmap, cv2.COLORMAP_JET)\n",
        "    overlayed_img = cv2.addWeighted(img, alpha, heatmap, 1 - alpha, 0)\n",
        "    return overlayed_img\n",
        "\n",
        "# 모델 로드\n",
        "model_path = '/content/drive/MyDrive/models/cnn_final_model.h5'\n",
        "model = tf.keras.models.load_model(model_path, compile=False)\n",
        "\n",
        "# 데이터 로드 및 차원 변경\n",
        "X_train = np.load('/content/drive/MyDrive/X_train.npy')\n",
        "y_train = np.load('/content/drive/MyDrive/Y_train.npy')\n",
        "\n",
        "# 예제 이미지 선택\n",
        "sample_img = X_train[0]  # 예제 이미지 선택\n",
        "sample_img_expanded = sample_img.reshape(1, 100, 98, 1)  # 흑백 이미지로 변환\n",
        "sample_img_expanded = np.repeat(sample_img_expanded, 3, axis=-1)  # 3채널로 확장\n",
        "\n",
        "# 모델을 먼저 호출하여 입력 크기 설정\n",
        "_ = model(sample_img_expanded, training=False)\n",
        "\n",
        "# Grad-CAM 적용\n",
        "target_layer = 'conv2d_2'  # 시각화할 합성곱 계층 (모델의 구조에 맞게 수정 필요)\n",
        "heatmap = grad_cam(model, sample_img_expanded, target_layer)\n",
        "\n",
        "# 원본 이미지 시각화\n",
        "original_img = np.uint8(255 * (sample_img / np.max(sample_img)))\n",
        "if original_img.shape[-1] == 1:\n",
        "    original_img = np.squeeze(original_img, axis=-1)  # 흑백이면 2D로 변환\n",
        "    original_img = cv2.cvtColor(original_img, cv2.COLOR_GRAY2RGB)\n",
        "\n",
        "# Heatmap과 원본 이미지 합성\n",
        "result_img = overlay_heatmap(original_img, heatmap)\n",
        "\n",
        "# 결과 출력\n",
        "plt.figure(figsize=(10, 5))\n",
        "plt.subplot(1, 3, 1)\n",
        "plt.title('Original Image')\n",
        "plt.imshow(original_img)\n",
        "plt.axis('off')\n",
        "\n",
        "plt.subplot(1, 3, 2)\n",
        "plt.title('Grad-CAM Heatmap')\n",
        "plt.imshow(heatmap, cmap='jet')\n",
        "plt.axis('off')\n",
        "\n",
        "plt.subplot(1, 3, 3)\n",
        "plt.title('Overlayed Image')\n",
        "plt.imshow(result_img)\n",
        "plt.axis('off')\n",
        "\n",
        "plt.show()"
      ],
      "metadata": {
        "colab": {
          "base_uri": "https://localhost:8080/",
          "height": 373
        },
        "id": "CNo8g3Sk8SWb",
        "outputId": "a7101cae-c6a9-42ad-c9fa-aef8ceedef78"
      },
      "execution_count": null,
      "outputs": [
        {
          "output_type": "error",
          "ename": "AttributeError",
          "evalue": "The layer sequential has never been called and thus has no defined input.",
          "traceback": [
            "\u001b[0;31m---------------------------------------------------------------------------\u001b[0m",
            "\u001b[0;31mAttributeError\u001b[0m                            Traceback (most recent call last)",
            "\u001b[0;32m<ipython-input-29-0b89e96cdee9>\u001b[0m in \u001b[0;36m<cell line: 0>\u001b[0;34m()\u001b[0m\n\u001b[1;32m     61\u001b[0m \u001b[0;31m# Grad-CAM 적용\u001b[0m\u001b[0;34m\u001b[0m\u001b[0;34m\u001b[0m\u001b[0m\n\u001b[1;32m     62\u001b[0m \u001b[0mtarget_layer\u001b[0m \u001b[0;34m=\u001b[0m \u001b[0;34m'conv2d_2'\u001b[0m  \u001b[0;31m# 시각화할 합성곱 계층 (모델의 구조에 맞게 수정 필요)\u001b[0m\u001b[0;34m\u001b[0m\u001b[0;34m\u001b[0m\u001b[0m\n\u001b[0;32m---> 63\u001b[0;31m \u001b[0mheatmap\u001b[0m \u001b[0;34m=\u001b[0m \u001b[0mgrad_cam\u001b[0m\u001b[0;34m(\u001b[0m\u001b[0mmodel\u001b[0m\u001b[0;34m,\u001b[0m \u001b[0msample_img_expanded\u001b[0m\u001b[0;34m,\u001b[0m \u001b[0mtarget_layer\u001b[0m\u001b[0;34m)\u001b[0m\u001b[0;34m\u001b[0m\u001b[0;34m\u001b[0m\u001b[0m\n\u001b[0m\u001b[1;32m     64\u001b[0m \u001b[0;34m\u001b[0m\u001b[0m\n\u001b[1;32m     65\u001b[0m \u001b[0;31m# 원본 이미지 시각화\u001b[0m\u001b[0;34m\u001b[0m\u001b[0;34m\u001b[0m\u001b[0m\n",
            "\u001b[0;32m<ipython-input-29-0b89e96cdee9>\u001b[0m in \u001b[0;36mgrad_cam\u001b[0;34m(model, img_array, layer_name)\u001b[0m\n\u001b[1;32m     14\u001b[0m     \u001b[0m_\u001b[0m \u001b[0;34m=\u001b[0m \u001b[0mmodel\u001b[0m\u001b[0;34m(\u001b[0m\u001b[0mimg_array\u001b[0m\u001b[0;34m,\u001b[0m \u001b[0mtraining\u001b[0m\u001b[0;34m=\u001b[0m\u001b[0;32mFalse\u001b[0m\u001b[0;34m)\u001b[0m\u001b[0;34m\u001b[0m\u001b[0;34m\u001b[0m\u001b[0m\n\u001b[1;32m     15\u001b[0m \u001b[0;34m\u001b[0m\u001b[0m\n\u001b[0;32m---> 16\u001b[0;31m     \u001b[0mgrad_model\u001b[0m \u001b[0;34m=\u001b[0m \u001b[0mModel\u001b[0m\u001b[0;34m(\u001b[0m\u001b[0minputs\u001b[0m\u001b[0;34m=\u001b[0m\u001b[0mmodel\u001b[0m\u001b[0;34m.\u001b[0m\u001b[0minput\u001b[0m\u001b[0;34m,\u001b[0m \u001b[0moutputs\u001b[0m\u001b[0;34m=\u001b[0m\u001b[0;34m[\u001b[0m\u001b[0mmodel\u001b[0m\u001b[0;34m.\u001b[0m\u001b[0mget_layer\u001b[0m\u001b[0;34m(\u001b[0m\u001b[0mlayer_name\u001b[0m\u001b[0;34m)\u001b[0m\u001b[0;34m.\u001b[0m\u001b[0moutput\u001b[0m\u001b[0;34m,\u001b[0m \u001b[0mmodel\u001b[0m\u001b[0;34m.\u001b[0m\u001b[0moutput\u001b[0m\u001b[0;34m]\u001b[0m\u001b[0;34m)\u001b[0m\u001b[0;34m\u001b[0m\u001b[0;34m\u001b[0m\u001b[0m\n\u001b[0m\u001b[1;32m     17\u001b[0m \u001b[0;34m\u001b[0m\u001b[0m\n\u001b[1;32m     18\u001b[0m     \u001b[0;32mwith\u001b[0m \u001b[0mtf\u001b[0m\u001b[0;34m.\u001b[0m\u001b[0mGradientTape\u001b[0m\u001b[0;34m(\u001b[0m\u001b[0;34m)\u001b[0m \u001b[0;32mas\u001b[0m \u001b[0mtape\u001b[0m\u001b[0;34m:\u001b[0m\u001b[0;34m\u001b[0m\u001b[0;34m\u001b[0m\u001b[0m\n",
            "\u001b[0;32m/usr/local/lib/python3.11/dist-packages/keras/src/ops/operation.py\u001b[0m in \u001b[0;36minput\u001b[0;34m(self)\u001b[0m\n\u001b[1;32m    252\u001b[0m             \u001b[0mInput\u001b[0m \u001b[0mtensor\u001b[0m \u001b[0;32mor\u001b[0m \u001b[0mlist\u001b[0m \u001b[0mof\u001b[0m \u001b[0minput\u001b[0m \u001b[0mtensors\u001b[0m\u001b[0;34m.\u001b[0m\u001b[0;34m\u001b[0m\u001b[0;34m\u001b[0m\u001b[0m\n\u001b[1;32m    253\u001b[0m         \"\"\"\n\u001b[0;32m--> 254\u001b[0;31m         \u001b[0;32mreturn\u001b[0m \u001b[0mself\u001b[0m\u001b[0;34m.\u001b[0m\u001b[0m_get_node_attribute_at_index\u001b[0m\u001b[0;34m(\u001b[0m\u001b[0;36m0\u001b[0m\u001b[0;34m,\u001b[0m \u001b[0;34m\"input_tensors\"\u001b[0m\u001b[0;34m,\u001b[0m \u001b[0;34m\"input\"\u001b[0m\u001b[0;34m)\u001b[0m\u001b[0;34m\u001b[0m\u001b[0;34m\u001b[0m\u001b[0m\n\u001b[0m\u001b[1;32m    255\u001b[0m \u001b[0;34m\u001b[0m\u001b[0m\n\u001b[1;32m    256\u001b[0m     \u001b[0;34m@\u001b[0m\u001b[0mproperty\u001b[0m\u001b[0;34m\u001b[0m\u001b[0;34m\u001b[0m\u001b[0m\n",
            "\u001b[0;32m/usr/local/lib/python3.11/dist-packages/keras/src/ops/operation.py\u001b[0m in \u001b[0;36m_get_node_attribute_at_index\u001b[0;34m(self, node_index, attr, attr_name)\u001b[0m\n\u001b[1;32m    283\u001b[0m         \"\"\"\n\u001b[1;32m    284\u001b[0m         \u001b[0;32mif\u001b[0m \u001b[0;32mnot\u001b[0m \u001b[0mself\u001b[0m\u001b[0;34m.\u001b[0m\u001b[0m_inbound_nodes\u001b[0m\u001b[0;34m:\u001b[0m\u001b[0;34m\u001b[0m\u001b[0;34m\u001b[0m\u001b[0m\n\u001b[0;32m--> 285\u001b[0;31m             raise AttributeError(\n\u001b[0m\u001b[1;32m    286\u001b[0m                 \u001b[0;34mf\"The layer {self.name} has never been called \"\u001b[0m\u001b[0;34m\u001b[0m\u001b[0;34m\u001b[0m\u001b[0m\n\u001b[1;32m    287\u001b[0m                 \u001b[0;34mf\"and thus has no defined {attr_name}.\"\u001b[0m\u001b[0;34m\u001b[0m\u001b[0;34m\u001b[0m\u001b[0m\n",
            "\u001b[0;31mAttributeError\u001b[0m: The layer sequential has never been called and thus has no defined input."
          ]
        }
      ]
    },
    {
      "cell_type": "code",
      "source": [
        "sample_img = X_train[0]  # 예제 이미지 선택\n",
        "sample_img_expanded = np.expand_dims(sample_img, axis=-1)  # (100, 98, 1)\n",
        "sample_img_expanded = np.repeat(sample_img_expanded, 3, axis=-1)  # (100, 98, 3)\n",
        "sample_img_expanded = np.expand_dims(sample_img_expanded, axis=0)  # (1, 100, 98, 3)\n"
      ],
      "metadata": {
        "id": "zbUlpQAp78oV"
      },
      "execution_count": null,
      "outputs": []
    },
    {
      "cell_type": "code",
      "source": [
        "print(\"X_train shape:\", X_train.shape)\n"
      ],
      "metadata": {
        "colab": {
          "base_uri": "https://localhost:8080/"
        },
        "id": "ycXINimB8FNM",
        "outputId": "d82ae6be-da00-4f8d-9ed8-c1f1ead5b409"
      },
      "execution_count": null,
      "outputs": [
        {
          "output_type": "stream",
          "name": "stdout",
          "text": [
            "X_train shape: (64642, 9800)\n"
          ]
        }
      ]
    },
    {
      "cell_type": "code",
      "source": [
        "import numpy as np\n",
        "import tensorflow as tf\n",
        "import matplotlib.pyplot as plt\n",
        "import cv2\n",
        "from tensorflow.keras.models import Model\n",
        "from tensorflow.keras.preprocessing.image import array_to_img\n",
        "\n",
        "# Grad-CAM 함수 정의\n",
        "def grad_cam(model, img_array, layer_name):\n",
        "    img_array = tf.convert_to_tensor(img_array, dtype=tf.float32)\n",
        "    img_array = tf.reshape(img_array, (-1, 100, 98, 3))  # CNN 입력 크기에 맞게 변환\n",
        "\n",
        "    grad_model = Model(inputs=model.input, outputs=[model.get_layer(layer_name).output, model.output])\n",
        "\n",
        "    with tf.GradientTape() as tape:\n",
        "        conv_outputs, predictions = grad_model(img_array, training=False)\n",
        "        class_idx = tf.argmax(predictions[0])  # 예측된 클래스\n",
        "        loss = predictions[:, class_idx]\n",
        "\n",
        "    grads = tape.gradient(loss, conv_outputs)  # 그래디언트 계산\n",
        "    pooled_grads = tf.reduce_mean(grads, axis=(0, 1, 2))\n",
        "    conv_outputs = conv_outputs[0]  # 특징 맵\n",
        "\n",
        "    # 특징 맵에 가중치 적용\n",
        "    for i in range(conv_outputs.shape[-1]):\n",
        "        conv_outputs[:, :, i] *= pooled_grads[i]\n",
        "\n",
        "    heatmap = tf.reduce_mean(conv_outputs, axis=-1)\n",
        "    heatmap = np.maximum(heatmap, 0)  # ReLU 적용\n",
        "    if np.max(heatmap) != 0:\n",
        "        heatmap /= np.max(heatmap)  # 정규화\n",
        "    return heatmap\n",
        "\n",
        "# Grad-CAM 결과를 원본 이미지 위에 시각화하는 함수\n",
        "def overlay_heatmap(img, heatmap, alpha=0.5):\n",
        "    heatmap = cv2.resize(heatmap, (img.shape[1], img.shape[0]))\n",
        "    heatmap = np.uint8(255 * heatmap)\n",
        "    heatmap = cv2.applyColorMap(heatmap, cv2.COLORMAP_JET)\n",
        "    overlayed_img = cv2.addWeighted(img, alpha, heatmap, 1 - alpha, 0)\n",
        "    return overlayed_img\n",
        "\n",
        "# 모델 로드\n",
        "model_path = '/content/drive/MyDrive/models/cnn_final_model.h5'\n",
        "model = tf.keras.models.load_model(model_path, compile=False)\n",
        "\n",
        "# 데이터 로드 및 차원 변경\n",
        "X_train = np.load('/content/drive/MyDrive/X_train.npy')\n",
        "y_train = np.load('/content/drive/MyDrive/Y_train.npy')\n",
        "\n",
        "# 예제 이미지 선택\n",
        "sample_img = X_train[0]  # 예제 이미지 선택\n",
        "sample_img_expanded = np.expand_dims(sample_img, axis=0)  # 배치 차원 추가\n",
        "sample_img_expanded = np.reshape(sample_img_expanded, (-1, 100, 98, 3))  # CNN 입력 크기에 맞게 변환\n",
        "\n",
        "# Grad-CAM 적용\n",
        "target_layer = 'conv2d_2'  # 시각화할 합성곱 계층 (모델의 구조에 맞게 수정 필요)\n",
        "heatmap = grad_cam(model, sample_img_expanded, target_layer)\n",
        "\n",
        "# 원본 이미지 시각화\n",
        "original_img = np.uint8(255 * (sample_img / np.max(sample_img)))\n",
        "if original_img.shape[-1] == 1:\n",
        "    original_img = np.squeeze(original_img, axis=-1)  # 흑백이면 2D로 변환\n",
        "    original_img = cv2.cvtColor(original_img, cv2.COLOR_GRAY2RGB)\n",
        "\n",
        "# Heatmap과 원본 이미지 합성\n",
        "result_img = overlay_heatmap(original_img, heatmap)\n",
        "\n",
        "# 결과 출력\n",
        "plt.figure(figsize=(10, 5))\n",
        "plt.subplot(1, 3, 1)\n",
        "plt.title('Original Image')\n",
        "plt.imshow(original_img)\n",
        "plt.axis('off')\n",
        "\n",
        "plt.subplot(1, 3, 2)\n",
        "plt.title('Grad-CAM Heatmap')\n",
        "plt.imshow(heatmap, cmap='jet')\n",
        "plt.axis('off')\n",
        "\n",
        "plt.subplot(1, 3, 3)\n",
        "plt.title('Overlayed Image')\n",
        "plt.imshow(result_img)\n",
        "plt.axis('off')\n",
        "\n",
        "plt.show()\n"
      ],
      "metadata": {
        "colab": {
          "base_uri": "https://localhost:8080/",
          "height": 391
        },
        "id": "RMZ0-rfI6Dq3",
        "outputId": "c268afe3-313d-4218-f767-21ac4fed691d"
      },
      "execution_count": null,
      "outputs": [
        {
          "output_type": "error",
          "ename": "ValueError",
          "evalue": "cannot reshape array of size 9800 into shape (100,98,3)",
          "traceback": [
            "\u001b[0;31m---------------------------------------------------------------------------\u001b[0m",
            "\u001b[0;31mValueError\u001b[0m                                Traceback (most recent call last)",
            "\u001b[0;32m<ipython-input-25-4bed94c119af>\u001b[0m in \u001b[0;36m<cell line: 0>\u001b[0;34m()\u001b[0m\n\u001b[1;32m     51\u001b[0m \u001b[0msample_img\u001b[0m \u001b[0;34m=\u001b[0m \u001b[0mX_train\u001b[0m\u001b[0;34m[\u001b[0m\u001b[0;36m0\u001b[0m\u001b[0;34m]\u001b[0m  \u001b[0;31m# 예제 이미지 선택\u001b[0m\u001b[0;34m\u001b[0m\u001b[0;34m\u001b[0m\u001b[0m\n\u001b[1;32m     52\u001b[0m \u001b[0msample_img_expanded\u001b[0m \u001b[0;34m=\u001b[0m \u001b[0mnp\u001b[0m\u001b[0;34m.\u001b[0m\u001b[0mexpand_dims\u001b[0m\u001b[0;34m(\u001b[0m\u001b[0msample_img\u001b[0m\u001b[0;34m,\u001b[0m \u001b[0maxis\u001b[0m\u001b[0;34m=\u001b[0m\u001b[0;36m0\u001b[0m\u001b[0;34m)\u001b[0m  \u001b[0;31m# 배치 차원 추가\u001b[0m\u001b[0;34m\u001b[0m\u001b[0;34m\u001b[0m\u001b[0m\n\u001b[0;32m---> 53\u001b[0;31m \u001b[0msample_img_expanded\u001b[0m \u001b[0;34m=\u001b[0m \u001b[0mnp\u001b[0m\u001b[0;34m.\u001b[0m\u001b[0mreshape\u001b[0m\u001b[0;34m(\u001b[0m\u001b[0msample_img_expanded\u001b[0m\u001b[0;34m,\u001b[0m \u001b[0;34m(\u001b[0m\u001b[0;34m-\u001b[0m\u001b[0;36m1\u001b[0m\u001b[0;34m,\u001b[0m \u001b[0;36m100\u001b[0m\u001b[0;34m,\u001b[0m \u001b[0;36m98\u001b[0m\u001b[0;34m,\u001b[0m \u001b[0;36m3\u001b[0m\u001b[0;34m)\u001b[0m\u001b[0;34m)\u001b[0m  \u001b[0;31m# CNN 입력 크기에 맞게 변환\u001b[0m\u001b[0;34m\u001b[0m\u001b[0;34m\u001b[0m\u001b[0m\n\u001b[0m\u001b[1;32m     54\u001b[0m \u001b[0;34m\u001b[0m\u001b[0m\n\u001b[1;32m     55\u001b[0m \u001b[0;31m# Grad-CAM 적용\u001b[0m\u001b[0;34m\u001b[0m\u001b[0;34m\u001b[0m\u001b[0m\n",
            "\u001b[0;32m/usr/local/lib/python3.11/dist-packages/numpy/core/fromnumeric.py\u001b[0m in \u001b[0;36mreshape\u001b[0;34m(a, newshape, order)\u001b[0m\n\u001b[1;32m    283\u001b[0m            [5, 6]])\n\u001b[1;32m    284\u001b[0m     \"\"\"\n\u001b[0;32m--> 285\u001b[0;31m     \u001b[0;32mreturn\u001b[0m \u001b[0m_wrapfunc\u001b[0m\u001b[0;34m(\u001b[0m\u001b[0ma\u001b[0m\u001b[0;34m,\u001b[0m \u001b[0;34m'reshape'\u001b[0m\u001b[0;34m,\u001b[0m \u001b[0mnewshape\u001b[0m\u001b[0;34m,\u001b[0m \u001b[0morder\u001b[0m\u001b[0;34m=\u001b[0m\u001b[0morder\u001b[0m\u001b[0;34m)\u001b[0m\u001b[0;34m\u001b[0m\u001b[0;34m\u001b[0m\u001b[0m\n\u001b[0m\u001b[1;32m    286\u001b[0m \u001b[0;34m\u001b[0m\u001b[0m\n\u001b[1;32m    287\u001b[0m \u001b[0;34m\u001b[0m\u001b[0m\n",
            "\u001b[0;32m/usr/local/lib/python3.11/dist-packages/numpy/core/fromnumeric.py\u001b[0m in \u001b[0;36m_wrapfunc\u001b[0;34m(obj, method, *args, **kwds)\u001b[0m\n\u001b[1;32m     57\u001b[0m \u001b[0;34m\u001b[0m\u001b[0m\n\u001b[1;32m     58\u001b[0m     \u001b[0;32mtry\u001b[0m\u001b[0;34m:\u001b[0m\u001b[0;34m\u001b[0m\u001b[0;34m\u001b[0m\u001b[0m\n\u001b[0;32m---> 59\u001b[0;31m         \u001b[0;32mreturn\u001b[0m \u001b[0mbound\u001b[0m\u001b[0;34m(\u001b[0m\u001b[0;34m*\u001b[0m\u001b[0margs\u001b[0m\u001b[0;34m,\u001b[0m \u001b[0;34m**\u001b[0m\u001b[0mkwds\u001b[0m\u001b[0;34m)\u001b[0m\u001b[0;34m\u001b[0m\u001b[0;34m\u001b[0m\u001b[0m\n\u001b[0m\u001b[1;32m     60\u001b[0m     \u001b[0;32mexcept\u001b[0m \u001b[0mTypeError\u001b[0m\u001b[0;34m:\u001b[0m\u001b[0;34m\u001b[0m\u001b[0;34m\u001b[0m\u001b[0m\n\u001b[1;32m     61\u001b[0m         \u001b[0;31m# A TypeError occurs if the object does have such a method in its\u001b[0m\u001b[0;34m\u001b[0m\u001b[0;34m\u001b[0m\u001b[0m\n",
            "\u001b[0;31mValueError\u001b[0m: cannot reshape array of size 9800 into shape (100,98,3)"
          ]
        }
      ]
    },
    {
      "cell_type": "code",
      "source": [
        "!pip install shap\n",
        "\n",
        "import shap\n",
        "import numpy as np\n",
        "\n",
        "# Load your trained model (replace with your actual model loading)\n",
        "# Assuming your model is saved as 'cnn_fault_model.h5' in the models directory\n",
        "model_path = os.path.join('models', '/content/drive/MyDrive/models/cnn_final_model.h5')\n",
        "model = tf.keras.models.load_model(model_path)\n",
        "\n",
        "\n",
        "# Load your training data (replace with your actual data loading)\n",
        "X_train = np.load(\"/content/drive/MyDrive/X_train.npy\")\n",
        "y_train = np.load(\"/content/drive/MyDrive/Y_train.npy\")\n",
        "\n",
        "# Choose a subset of your data for SHAP values calculation (for speed)\n",
        "# Adjust the number of background samples as needed.  Too few can lead to poor explanations\n",
        "background_data = X_train[:100] # Example: Using first 100 samples as background\n",
        "explainer = shap.KernelExplainer(model.predict, background_data)\n",
        "\n",
        "# Select a few instances for explanation (adjust the number of instances)\n",
        "num_instances_to_explain = 10  # Example: Explain 10 instances\n",
        "X_test = X_train[100:100 + num_instances_to_explain] # Example: Using samples 100-110\n",
        "shap_values = explainer.shap_values(X_test)\n",
        "\n",
        "# Visualize SHAP values\n",
        "shap.summary_plot(shap_values, X_test, plot_type=\"bar\")\n",
        "shap.summary_plot(shap_values, X_test)\n",
        "\n",
        "# You can also visualize individual predictions:\n",
        "# for i in range(num_instances_to_explain):\n",
        "#  shap.force_plot(explainer.expected_value[0], shap_values[0][i], X_test[i])\n"
      ],
      "metadata": {
        "id": "4_Vuh_l_NvOR"
      },
      "execution_count": null,
      "outputs": []
    }
  ],
  "metadata": {
    "accelerator": "GPU",
    "colab": {
      "gpuType": "A100",
      "provenance": []
    },
    "kernelspec": {
      "display_name": "Python 3",
      "name": "python3"
    },
    "language_info": {
      "name": "python"
    }
  },
  "nbformat": 4,
  "nbformat_minor": 0
}